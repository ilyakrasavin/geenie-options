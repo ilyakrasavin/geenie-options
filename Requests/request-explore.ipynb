{
 "cells": [
  {
   "cell_type": "code",
   "execution_count": 51,
   "metadata": {},
   "outputs": [],
   "source": [
    "# Querying Yahoo Finance Data"
   ]
  },
  {
   "cell_type": "code",
   "execution_count": 1,
   "metadata": {},
   "outputs": [],
   "source": [
    "import requests\n",
    "import pandas as pd\n",
    "import numpy as np"
   ]
  },
  {
   "cell_type": "markdown",
   "metadata": {},
   "source": [
    "# Data Retrieval"
   ]
  },
  {
   "cell_type": "code",
   "execution_count": 2,
   "metadata": {},
   "outputs": [],
   "source": [
    "# Captures the Equity page to retrieve Expiration Dates\n",
    "\n",
    "headers = {'User-Agent': 'Mozilla/5.0 (Macintosh; Intel Mac OS X 10_11_5) AppleWebKit/537.36 (KHTML, like Gecko) Chrome/50.0.2661.102 Safari/537.36'}\n",
    "\n",
    "ticker = 'SPY'\n",
    "\n",
    "req = requests.get('http://query1.finance.yahoo.com/v7/finance/options/' + ticker, headers = headers)"
   ]
  },
  {
   "cell_type": "code",
   "execution_count": 3,
   "metadata": {},
   "outputs": [],
   "source": [
    "# Decode the response\n",
    "dates = pd.read_json(req.content.decode())\n",
    "\n",
    "# Translate Unix Timestamps into Python TimeDate \n",
    "dates_unix = dates.optionChain[1][0]['expirationDates']\n",
    "dates_timedate = pd.to_datetime(dates_unix, origin='unix', unit = 's')\n",
    "\n",
    "# Convert to Human-readable form\n",
    "dates_human = []\n",
    "for i, each in enumerate(dates_timedate):\n",
    "    dates_human.append(str(each.year) + '-' + str(each.month) + '-' + str(each.day))\n"
   ]
  },
  {
   "cell_type": "code",
   "execution_count": 27,
   "metadata": {},
   "outputs": [
    {
     "data": {
      "text/plain": [
       "[1648425600,\n",
       " 1648598400,\n",
       " 1648684800,\n",
       " 1648771200,\n",
       " 1649030400,\n",
       " 1649203200,\n",
       " 1649376000,\n",
       " 1649635200,\n",
       " 1649808000,\n",
       " 1649894400,\n",
       " 1650240000,\n",
       " 1650412800,\n",
       " 1650585600,\n",
       " 1650844800,\n",
       " 1651190400,\n",
       " 1653004800,\n",
       " 1655424000,\n",
       " 1656547200,\n",
       " 1657843200,\n",
       " 1660867200,\n",
       " 1663286400,\n",
       " 1664496000,\n",
       " 1671148800,\n",
       " 1672358400,\n",
       " 1674172800,\n",
       " 1679011200,\n",
       " 1686873600,\n",
       " 1702598400,\n",
       " 1705622400,\n",
       " 1734652800]"
      ]
     },
     "execution_count": 27,
     "metadata": {},
     "output_type": "execute_result"
    }
   ],
   "source": [
    "dates_unix"
   ]
  },
  {
   "cell_type": "code",
   "execution_count": 35,
   "metadata": {},
   "outputs": [],
   "source": [
    "import datetime"
   ]
  },
  {
   "cell_type": "code",
   "execution_count": 44,
   "metadata": {},
   "outputs": [
    {
     "data": {
      "text/plain": [
       "'1648265329'"
      ]
     },
     "execution_count": 44,
     "metadata": {},
     "output_type": "execute_result"
    }
   ],
   "source": [
    "datetime.datetime.today().strftime('%s')"
   ]
  },
  {
   "cell_type": "code",
   "execution_count": 47,
   "metadata": {},
   "outputs": [
    {
     "name": "stdout",
     "output_type": "stream",
     "text": [
      "3.854513888888889\n"
     ]
    }
   ],
   "source": [
    "print( (float(dates_unix[1]) - float(datetime.datetime.today().strftime('%s'))) / (60*60*24) )"
   ]
  },
  {
   "cell_type": "code",
   "execution_count": 24,
   "metadata": {},
   "outputs": [
    {
     "data": {
      "text/plain": [
       "452.69"
      ]
     },
     "execution_count": 24,
     "metadata": {},
     "output_type": "execute_result"
    }
   ],
   "source": [
    "dates.optionChain[1][0]['quote']['regularMarketPrice']"
   ]
  },
  {
   "cell_type": "code",
   "execution_count": 67,
   "metadata": {},
   "outputs": [],
   "source": [
    "# Request Option chains for each corresponding Expiration Date (Human-Readable)\n",
    "\n",
    "all_exp = {}\n",
    "for i, exp_date in enumerate(dates_unix):\n",
    "    all_exp[dates_human[i]] = pd.read_json(requests.get('http://query1.finance.yahoo.com/v7/finance/options/' + ticker + '?date=' + str(exp_date), headers = headers).content.decode())"
   ]
  },
  {
   "cell_type": "code",
   "execution_count": 68,
   "metadata": {},
   "outputs": [
    {
     "data": {
      "text/plain": [
       "dict_keys(['2022-2-4', '2022-2-11', '2022-2-18', '2022-2-25', '2022-3-4', '2022-3-18', '2022-4-14', '2022-5-20', '2022-6-17', '2022-7-15', '2022-9-16', '2023-1-20', '2023-5-19', '2023-6-16', '2024-1-19'])"
      ]
     },
     "execution_count": 68,
     "metadata": {},
     "output_type": "execute_result"
    }
   ],
   "source": [
    "# Assure the dictionary contains all Expiration Dates of interest\n",
    "all_exp.keys()"
   ]
  },
  {
   "cell_type": "code",
   "execution_count": 69,
   "metadata": {},
   "outputs": [],
   "source": [
    "# Convert the format from Dictionaties to Pandas Dataframe\n",
    "# Each Chain can now be accessed by quering 'YY-MM-DD' Expiration date in the Dictionary\n",
    "\n",
    "for each in all_exp:\n",
    "    all_exp[each] = pd.DataFrame.from_dict(all_exp[each].optionChain.result[0], orient='index')"
   ]
  },
  {
   "cell_type": "code",
   "execution_count": 70,
   "metadata": {},
   "outputs": [
    {
     "ename": "KeyError",
     "evalue": "'2023-3-17'",
     "output_type": "error",
     "traceback": [
      "\u001b[0;31m---------------------------------------------------------------------------\u001b[0m",
      "\u001b[0;31mKeyError\u001b[0m                                  Traceback (most recent call last)",
      "\u001b[0;32m/var/folders/px/x01_dz0s2pg80y1jr97km6bh0000gn/T/ipykernel_29851/3837618323.py\u001b[0m in \u001b[0;36m<module>\u001b[0;34m\u001b[0m\n\u001b[0;32m----> 1\u001b[0;31m \u001b[0mall_exp\u001b[0m\u001b[0;34m[\u001b[0m\u001b[0;34m'2023-3-17'\u001b[0m\u001b[0;34m]\u001b[0m\u001b[0;34m\u001b[0m\u001b[0;34m\u001b[0m\u001b[0m\n\u001b[0m",
      "\u001b[0;31mKeyError\u001b[0m: '2023-3-17'"
     ]
    }
   ],
   "source": [
    "all_exp['2023-3-17']"
   ]
  },
  {
   "cell_type": "markdown",
   "metadata": {},
   "source": [
    "# Datapoints of Interest"
   ]
  },
  {
   "cell_type": "markdown",
   "metadata": {},
   "source": [
    "## Equity"
   ]
  },
  {
   "cell_type": "code",
   "execution_count": null,
   "metadata": {},
   "outputs": [
    {
     "data": {
      "text/plain": [
       "dict_keys(['language', 'region', 'quoteType', 'quoteSourceName', 'triggerable', 'currency', 'exchange', 'shortName', 'longName', 'messageBoardId', 'exchangeTimezoneName', 'exchangeTimezoneShortName', 'gmtOffSetMilliseconds', 'market', 'esgPopulated', 'sharesOutstanding', 'bookValue', 'fiftyDayAverage', 'fiftyDayAverageChange', 'fiftyDayAverageChangePercent', 'twoHundredDayAverage', 'twoHundredDayAverageChange', 'twoHundredDayAverageChangePercent', 'marketCap', 'priceToBook', 'sourceInterval', 'exchangeDataDelayedBy', 'tradeable', 'postMarketChangePercent', 'postMarketTime', 'postMarketPrice', 'postMarketChange', 'regularMarketChange', 'regularMarketChangePercent', 'regularMarketTime', 'regularMarketPrice', 'regularMarketDayHigh', 'regularMarketDayRange', 'regularMarketDayLow', 'regularMarketVolume', 'regularMarketPreviousClose', 'bid', 'ask', 'bidSize', 'askSize', 'fullExchangeName', 'financialCurrency', 'regularMarketOpen', 'averageDailyVolume3Month', 'averageDailyVolume10Day', 'fiftyTwoWeekLowChange', 'fiftyTwoWeekLowChangePercent', 'fiftyTwoWeekRange', 'fiftyTwoWeekHighChange', 'fiftyTwoWeekHighChangePercent', 'fiftyTwoWeekLow', 'fiftyTwoWeekHigh', 'trailingAnnualDividendRate', 'trailingPE', 'trailingAnnualDividendYield', 'firstTradeDateMilliseconds', 'priceHint', 'ytdReturn', 'trailingThreeMonthReturns', 'trailingThreeMonthNavReturns', 'epsTrailingTwelveMonths', 'marketState', 'symbol'])"
      ]
     },
     "execution_count": 12,
     "metadata": {},
     "output_type": "execute_result"
    }
   ],
   "source": [
    "# Information Accessible for a Single Equity\n",
    "all_exp['2023-3-17'][0][4].keys()"
   ]
  },
  {
   "cell_type": "code",
   "execution_count": null,
   "metadata": {},
   "outputs": [
    {
     "data": {
      "text/plain": [
       "[1643587200,\n",
       " 1643760000,\n",
       " 1643932800,\n",
       " 1644192000,\n",
       " 1644364800,\n",
       " 1644537600,\n",
       " 1644796800,\n",
       " 1644969600,\n",
       " 1645142400,\n",
       " 1645488000,\n",
       " 1645574400,\n",
       " 1645747200,\n",
       " 1646006400,\n",
       " 1646352000,\n",
       " 1647561600,\n",
       " 1648684800,\n",
       " 1649894400,\n",
       " 1653004800,\n",
       " 1655424000,\n",
       " 1656547200,\n",
       " 1663286400,\n",
       " 1664496000,\n",
       " 1671148800,\n",
       " 1672358400,\n",
       " 1674172800,\n",
       " 1679011200,\n",
       " 1686873600,\n",
       " 1702598400,\n",
       " 1705622400,\n",
       " 1734652800]"
      ]
     },
     "execution_count": 13,
     "metadata": {},
     "output_type": "execute_result"
    }
   ],
   "source": [
    "# All Expiration Dates available in UNIX Timestamp format\n",
    "all_exp['2023-3-17'][0]['expirationDates']"
   ]
  },
  {
   "cell_type": "markdown",
   "metadata": {},
   "source": [
    "## Option Chain"
   ]
  },
  {
   "cell_type": "code",
   "execution_count": null,
   "metadata": {},
   "outputs": [
    {
     "data": {
      "text/plain": [
       "dict_keys(['contractSymbol', 'strike', 'currency', 'lastPrice', 'change', 'percentChange', 'volume', 'openInterest', 'bid', 'ask', 'contractSize', 'expiration', 'lastTradeDate', 'impliedVolatility', 'inTheMoney'])"
      ]
     },
     "execution_count": 14,
     "metadata": {},
     "output_type": "execute_result"
    }
   ],
   "source": [
    "# Datapoints available for Each Contract\n",
    "all_exp['2023-3-17'].loc['options'][0][0]['calls'][0].keys()"
   ]
  },
  {
   "cell_type": "code",
   "execution_count": null,
   "metadata": {},
   "outputs": [
    {
     "data": {
      "text/plain": [
       "86"
      ]
     },
     "execution_count": 15,
     "metadata": {},
     "output_type": "execute_result"
    }
   ],
   "source": [
    "# Current Expiration Date\n",
    "all_exp['2023-3-17'].loc['options'][0][0]['expirationDate']\n",
    "\n",
    "# All Puts and Calls in order (Calls & Puts: Low to High Strike)\n",
    "all_exp['2023-3-17'].loc['options'][0][0]['calls']\n",
    "all_exp['2023-3-17'].loc['options'][0][0]['puts']\n",
    "\n",
    "# Strike Prices for a Current Expiration Date\n",
    "all_exp['2023-3-17'].loc['strikes'][0]\n",
    "\n",
    "# Number of different contracts by Expirations\n",
    "len(all_exp['2023-3-17'].loc['options'][0][0]['puts'])"
   ]
  },
  {
   "cell_type": "code",
   "execution_count": null,
   "metadata": {},
   "outputs": [
    {
     "data": {
      "text/plain": [
       "0.392034888305664"
      ]
     },
     "execution_count": 16,
     "metadata": {},
     "output_type": "execute_result"
    }
   ],
   "source": [
    "# Access to a specific Contract #15\n",
    "all_exp['2023-3-17'].loc['options'][0][0]['puts'][15]\n",
    "\n",
    "# Access to a specific Datapoint\n",
    "all_exp['2023-3-17'].loc['options'][0][0]['puts'][15]['impliedVolatility']"
   ]
  },
  {
   "cell_type": "code",
   "execution_count": null,
   "metadata": {},
   "outputs": [],
   "source": []
  },
  {
   "cell_type": "markdown",
   "metadata": {},
   "source": [
    "# Dataset"
   ]
  },
  {
   "cell_type": "markdown",
   "metadata": {},
   "source": [
    "## Construction"
   ]
  },
  {
   "cell_type": "code",
   "execution_count": 59,
   "metadata": {},
   "outputs": [
    {
     "data": {
      "text/plain": [
       "'/Users/ip/Desktop/options-study/VolatilitySurface'"
      ]
     },
     "execution_count": 59,
     "metadata": {},
     "output_type": "execute_result"
    }
   ],
   "source": [
    "import os\n",
    "os.getcwd()"
   ]
  },
  {
   "cell_type": "code",
   "execution_count": 60,
   "metadata": {},
   "outputs": [],
   "source": [
    "# For each one of the Expiration Dates (Folder)\n",
    "# Retrieve and save the corresponding chains (Concatenated CALLS & PUTS) - Append a Type Column\n",
    "\n",
    "for each in dates_human:\n",
    "\n",
    "    puts = pd.DataFrame.from_records(all_exp[each].loc['options'][0][0]['puts'])\n",
    "    puts['Type'] = \"P\"\n",
    "    calls = pd.DataFrame.from_records(all_exp[each].loc['options'][0][0]['calls'])\n",
    "    calls['Type'] = \"C\"\n",
    "    \n",
    "    outname = req.headers['date'] + '.csv'\n",
    "    outdir = './Data/' + ticker + '/' + str(each) + '/'\n",
    "    \n",
    "    if not os.path.isdir(outdir):\n",
    "        os.makedirs(outdir)\n",
    "\n",
    "    puts.append(calls).to_csv(outdir + outname)"
   ]
  },
  {
   "cell_type": "code",
   "execution_count": null,
   "metadata": {},
   "outputs": [],
   "source": []
  }
 ],
 "metadata": {
  "interpreter": {
   "hash": "767d51c1340bd893661ea55ea3124f6de3c7a262a8b4abca0554b478b1e2ff90"
  },
  "kernelspec": {
   "display_name": "Python 2.7.16 64-bit",
   "language": "python",
   "name": "python3"
  },
  "language_info": {
   "codemirror_mode": {
    "name": "ipython",
    "version": 3
   },
   "file_extension": ".py",
   "mimetype": "text/x-python",
   "name": "python",
   "nbconvert_exporter": "python",
   "pygments_lexer": "ipython3",
   "version": "3.9.8"
  },
  "orig_nbformat": 4
 },
 "nbformat": 4,
 "nbformat_minor": 2
}
