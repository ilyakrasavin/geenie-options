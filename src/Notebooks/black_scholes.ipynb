{
 "cells": [
  {
   "cell_type": "code",
   "execution_count": 3,
   "metadata": {},
   "outputs": [],
   "source": [
    "import scipy.stats as stats\n",
    "import numpy as np"
   ]
  },
  {
   "cell_type": "markdown",
   "metadata": {},
   "source": [
    "## Definitions"
   ]
  },
  {
   "cell_type": "code",
   "execution_count": null,
   "metadata": {},
   "outputs": [],
   "source": []
  },
  {
   "cell_type": "code",
   "execution_count": 4,
   "metadata": {},
   "outputs": [],
   "source": [
    "def d1(S, K, sigma, r, T):\n",
    "    return (np.log(S / K) + (r + sigma*sigma / 2)*T) / sigma * np.sqrt(T)\n",
    "\n",
    "def d2(S, K, sigma, r, T):\n",
    "    return (np.log(S / K) + (r - sigma*sigma / 2)*T) / sigma * np.sqrt(T)"
   ]
  },
  {
   "cell_type": "markdown",
   "metadata": {},
   "source": [
    "## Calls"
   ]
  },
  {
   "cell_type": "code",
   "execution_count": 5,
   "metadata": {},
   "outputs": [],
   "source": [
    "class Call:\n",
    "\n",
    "    def price(S, K, sigma, r, T):\n",
    "        if T == 0:\n",
    "            return max(0, S - K)\n",
    "        else:\n",
    "            return S * stats.norm.cdf(d1(S, K, sigma, r, T)) - K*np.exp(-1*r*T)*stats.norm.cdf(d2(S, K, sigma, r, T))\n",
    "\n",
    "    # How much a price of an option changes with 1$ movement in the underlying\n",
    "    def delta(S, K, sigma, r, T):\n",
    "        return stats.norm.cdf(d1(S, K, sigma, r, T))\n",
    "\n",
    "    # The velocity of delta (How much delta changes with 1$ movement in the underlying)\n",
    "    def gamma(S, K, sigma, r, T):\n",
    "        return stats.norm.pdf(d1(S, K, sigma, r, T)) / (S * sigma * np.sqrt(T))\n",
    "\n",
    "    # How much a price of an option changes with 1% change in IV\n",
    "    def vega(S, K, sigma, r, T):\n",
    "        return (S * stats.norm.pdf(d1(S, K, sigma, r, T)) * np.sqrt(T)) / 100\n",
    "\n",
    "    # Time value of an option (How much time value is the option losing per 1 day?)\n",
    "    def theta(S, K, sigma, r, T):\n",
    "        pt1 = (S * stats.norm.pdf(d1(S, K, sigma, r, T)) * sigma) / (2 * np.sqrt(T))\n",
    "        pt2 = r * K * np.exp(-1*r*T) * stats.norm.cdf(d2(S, K, sigma, r, T))\n",
    "        return -1 * pt1 - 1 * pt2\n",
    "\n",
    "    # How is the price of an option affected by the changes in risk-free interest rate\n",
    "    def rho(S, K, sigma, r, T):\n",
    "        return K * T * np.exp(-1* r * T) * stats.norm.cdf(d2(S, K, sigma, r, T))\n"
   ]
  },
  {
   "cell_type": "markdown",
   "metadata": {},
   "source": [
    "## Puts"
   ]
  },
  {
   "cell_type": "code",
   "execution_count": 6,
   "metadata": {},
   "outputs": [],
   "source": [
    "class Put:\n",
    "\n",
    "    def price(S, K, sigma, r, T):\n",
    "        if T == 0:\n",
    "            return max(0, S - K)\n",
    "        else:\n",
    "            return K * np.exp(-1 * r * T) - S * stats.norm.cdf(-1 * d1(S, K, sigma, r, T))\n",
    "\n",
    "    # How much a price of an option changes with 1$ movement in the underlying\n",
    "    def delta(S, K, sigma, r, T):\n",
    "        return stats.norm.cdf(d1(S, K, sigma, r, T)) - 1\n",
    "\n",
    "    # The velocity of delta (How much delta changes with 1$ movement in the underlying)\n",
    "    def gamma(S, K, sigma, r, T):\n",
    "        return stats.norm.pdf(d1(S, K, sigma, r, T)) / (S * sigma * np.sqrt(T))\n",
    "\n",
    "    # How much a price of an option changes with 1% change in IV\n",
    "    def vega(S, K, sigma, r, T):\n",
    "        return (S * stats.norm.pdf(d1(S, K, sigma, r, T)) * np.sqrt(T)) / 100\n",
    "\n",
    "    # Time value of an option (How much time value is the option losing per 1 day?)\n",
    "    def theta(S, K, sigma, r, T):\n",
    "        pt1 = (S * stats.norm.pdf(d1(S, K, sigma, r, T)) * sigma) / (2 * np.sqrt(T))\n",
    "        pt2 = r * K * np.exp(-1*r*T) * stats.norm.cdf(-1 * d2(S, K, sigma, r, T))\n",
    "        return -1 * pt1 + pt2\n",
    "\n",
    "    # How is the price of an option affected by the changes in risk-free interest rate\n",
    "    def rho(S, K, sigma, r, T):\n",
    "        return -1 * K * T * np.exp(-1 * r * T) * stats.norm.cdf(-1 * d2(S, K, sigma, r, T))\n"
   ]
  },
  {
   "cell_type": "code",
   "execution_count": 7,
   "metadata": {},
   "outputs": [
    {
     "data": {
      "text/plain": [
       "1.7125228129098773"
      ]
     },
     "execution_count": 7,
     "metadata": {},
     "output_type": "execute_result"
    }
   ],
   "source": [
    "Call.vega(430, 470, 0.22669230346679603, 0.05, 1)"
   ]
  },
  {
   "cell_type": "code",
   "execution_count": 9,
   "metadata": {},
   "outputs": [
    {
     "data": {
      "text/plain": [
       "-0.8176290441986187"
      ]
     },
     "execution_count": 9,
     "metadata": {},
     "output_type": "execute_result"
    }
   ],
   "source": [
    "Put.delta(200, 477, 0.59058, 0.05, 0.5)"
   ]
  },
  {
   "cell_type": "code",
   "execution_count": null,
   "metadata": {},
   "outputs": [],
   "source": []
  }
 ],
 "metadata": {
  "interpreter": {
   "hash": "aee8b7b246df8f9039afb4144a1f6fd8d2ca17a180786b69acc140d282b71a49"
  },
  "kernelspec": {
   "display_name": "Python 3.9.8 64-bit",
   "language": "python",
   "name": "python3"
  },
  "language_info": {
   "codemirror_mode": {
    "name": "ipython",
    "version": 3
   },
   "file_extension": ".py",
   "mimetype": "text/x-python",
   "name": "python",
   "nbconvert_exporter": "python",
   "pygments_lexer": "ipython3",
   "version": "3.9.8"
  },
  "orig_nbformat": 4
 },
 "nbformat": 4,
 "nbformat_minor": 2
}
