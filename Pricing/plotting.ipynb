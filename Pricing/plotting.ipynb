{
 "cells": [
  {
   "cell_type": "code",
   "execution_count": 31,
   "metadata": {},
   "outputs": [],
   "source": [
    "import matplotlib.pyplot as plt\n",
    "import os\n",
    "import pandas as pd\n",
    "import datetime"
   ]
  },
  {
   "cell_type": "code",
   "execution_count": 2,
   "metadata": {},
   "outputs": [],
   "source": [
    "# Initialize Data Directory\n",
    "\n",
    "# Symbol\n",
    "# Select folders by DOE > Today\n",
    "# Get the latest data"
   ]
  },
  {
   "cell_type": "markdown",
   "metadata": {},
   "source": [
    "## Plotting Arrangements\n",
    "\n",
    "### General Structure\n",
    "\n",
    "#### By Expiration ATM\n",
    "- Option Type (P / C / P & C)\n",
    "- Exact DOE / TTE Period (1M / 3M / 6M / 1Y / 1Y6M / 2Y / Max) / Full Normal Cycles (No weeklys) / Weeklys\n",
    "- Metric: Nominal Price / OI / Vol / IV / delta / gamma / vega / theta / rho\n",
    "\n",
    "#### By Strike Price (EXP)\n",
    "- Option Type (P / C / P & C)\n",
    "- Strike Range (numerical range, full)\n",
    "- Exact DOE / TTE Period (1M / 3M / 6M / 1Y / 1Y6M / 2Y / Max) / Full Normal Cycles (No weeklys) / Weeklys\n",
    "- Metric: Nominal Price / OI / Vol / IV / delta / gamma / vega / theta / rho\n"
   ]
  },
  {
   "cell_type": "markdown",
   "metadata": {},
   "source": []
  },
  {
   "cell_type": "code",
   "execution_count": 22,
   "metadata": {},
   "outputs": [],
   "source": [
    "# Retrieve the Expiration arrays (X - axis)\n",
    "\n",
    "# Process the files\n",
    "# Locate the ticker folder\n",
    "\n",
    "\n",
    "ticker = 'SPY'\n",
    "\n",
    "# indir = '../Data/' + ticker + '/' + str(each) + '/'\n",
    "        # if not os.path.exists(outdir):\n",
    "            # os.makedirs(outdir)\n",
    "\n",
    "# Traverse the expirations (past today -> locate latest file)"
   ]
  },
  {
   "cell_type": "code",
   "execution_count": 35,
   "metadata": {},
   "outputs": [
    {
     "data": {
      "text/plain": [
       "'04'"
      ]
     },
     "execution_count": 35,
     "metadata": {},
     "output_type": "execute_result"
    }
   ],
   "source": []
  },
  {
   "cell_type": "code",
   "execution_count": 45,
   "metadata": {},
   "outputs": [],
   "source": [
    "exprations = os.listdir(path='../Data/' + ticker)\n",
    "\n",
    "# Filter dates past today:\n",
    "# Check year - this year >= 0\n",
    "# Check month - this month >= 0\n",
    "# Check day - this day >= 0\n",
    "\n",
    "valid_expirations = []\n",
    "today_y = datetime.datetime.today().strftime('%y')\n",
    "today_m = datetime.datetime.today().strftime('%m')\n",
    "today_d = datetime.datetime.today().strftime('%d')\n",
    "\n",
    "for each in exprations:\n",
    "\n",
    "    # Add current year and months beyond current\n",
    "    if int(pd.to_datetime(each).strftime('%y')) == int(today_y) and int(pd.to_datetime(each).strftime('%m')) > int(today_m):\n",
    "        valid_expirations.append(each)\n",
    "    # Add the following years\n",
    "    if each not in valid_expirations and int(pd.to_datetime(each).strftime('%y')) > int(today_y):\n",
    "        valid_expirations.append(each)\n",
    "    # Add remaining expirations in the current month past today\n",
    "    if each not in valid_expirations and int(pd.to_datetime(each).strftime('%y')) == int(today_y) and int(pd.to_datetime(each).strftime('%m')) == int(today_m) and int(pd.to_datetime(each).strftime('%d')) >= int(today_d):\n",
    "        valid_expirations.append(each)"
   ]
  },
  {
   "cell_type": "code",
   "execution_count": null,
   "metadata": {},
   "outputs": [],
   "source": []
  },
  {
   "cell_type": "code",
   "execution_count": 46,
   "metadata": {},
   "outputs": [
    {
     "name": "stdout",
     "output_type": "stream",
     "text": [
      "['2022-6-30', '2023-3-31', '2022-5-20', '2023-12-15', '2022-4-18', '2022-4-27', '2022-4-20', '2022-4-29', '2022-4-11', '2022-5-6', '2022-12-30', '2022-5-9', '2023-1-20', '2024-1-19', '2022-7-15', '2022-9-30', '2022-4-4', '2022-5-13', '2022-9-16', '2022-5-2', '2022-8-19', '2022-5-4', '2022-4-14', '2022-4-13', '2022-4-25', '2022-4-22', '2022-12-16', '2023-6-16', '2022-6-17', '2024-12-20', '2022-4-6', '2022-4-8', '2023-3-17']\n"
     ]
    }
   ],
   "source": [
    "print(valid_expirations)"
   ]
  },
  {
   "cell_type": "code",
   "execution_count": null,
   "metadata": {},
   "outputs": [],
   "source": [
    "def plot_expiration_atm():"
   ]
  },
  {
   "cell_type": "code",
   "execution_count": null,
   "metadata": {},
   "outputs": [],
   "source": [
    "def plot_strike_expiration():\n",
    "    "
   ]
  },
  {
   "cell_type": "code",
   "execution_count": 6,
   "metadata": {},
   "outputs": [],
   "source": [
    "# Plots (Takes)"
   ]
  },
  {
   "cell_type": "code",
   "execution_count": 3,
   "metadata": {},
   "outputs": [],
   "source": [
    "# "
   ]
  },
  {
   "cell_type": "code",
   "execution_count": null,
   "metadata": {},
   "outputs": [],
   "source": []
  },
  {
   "cell_type": "code",
   "execution_count": null,
   "metadata": {},
   "outputs": [],
   "source": []
  },
  {
   "cell_type": "code",
   "execution_count": null,
   "metadata": {},
   "outputs": [],
   "source": []
  }
 ],
 "metadata": {
  "interpreter": {
   "hash": "aee8b7b246df8f9039afb4144a1f6fd8d2ca17a180786b69acc140d282b71a49"
  },
  "kernelspec": {
   "display_name": "Python 3.9.8 64-bit",
   "language": "python",
   "name": "python3"
  },
  "language_info": {
   "codemirror_mode": {
    "name": "ipython",
    "version": 3
   },
   "file_extension": ".py",
   "mimetype": "text/x-python",
   "name": "python",
   "nbconvert_exporter": "python",
   "pygments_lexer": "ipython3",
   "version": "3.9.8"
  },
  "orig_nbformat": 4
 },
 "nbformat": 4,
 "nbformat_minor": 2
}
