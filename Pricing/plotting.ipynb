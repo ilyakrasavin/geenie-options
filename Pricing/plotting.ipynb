{
 "cells": [
  {
   "cell_type": "code",
   "execution_count": 89,
   "metadata": {},
   "outputs": [],
   "source": [
    "import matplotlib.pyplot as plt\n",
    "import os\n",
    "import pandas as pd\n",
    "import datetime\n",
    "import numpy as np"
   ]
  },
  {
   "cell_type": "code",
   "execution_count": 48,
   "metadata": {},
   "outputs": [],
   "source": [
    "# Initialize Data Directory\n",
    "\n",
    "# Symbol\n",
    "# Select folders by DOE > Today\n",
    "# Get the latest data"
   ]
  },
  {
   "cell_type": "markdown",
   "metadata": {},
   "source": [
    "## Plotting Arrangements\n",
    "\n",
    "### General Structure\n",
    "\n",
    "#### By Expiration ATM\n",
    "- Option Type (P / C / P & C)\n",
    "- Exact DOE / TTE Period (1M / 3M / 6M / 1Y / 1Y6M / 2Y / Max) / Full Normal Cycles (No weeklys) / Weeklys\n",
    "- Metric: Nominal Price / OI / Vol / IV / delta / gamma / vega / theta / rho\n",
    "\n",
    "#### By Strike Price (EXP)\n",
    "- Option Type (P / C / P & C)\n",
    "- Strike Range (numerical range, full)\n",
    "- Exact DOE / TTE Period (1M / 3M / 6M / 1Y / 1Y6M / 2Y / Max) / Full Normal Cycles (No weeklys) / Weeklys\n",
    "- Metric: Nominal Price / OI / Vol / IV / delta / gamma / vega / theta / rho\n"
   ]
  },
  {
   "cell_type": "markdown",
   "metadata": {},
   "source": []
  },
  {
   "cell_type": "code",
   "execution_count": 54,
   "metadata": {},
   "outputs": [],
   "source": [
    "# Retrieve the Expiration arrays (X - axis)\n",
    "\n",
    "# Process the files\n",
    "# Locate the ticker folder\n",
    "\n",
    "\n",
    "ticker = 'SPY'\n",
    "\n",
    "# indir = '../Data/' + ticker + '/' + str(each) + '/'\n",
    "        # if not os.path.exists(outdir):\n",
    "            # os.makedirs(outdir)\n",
    "\n",
    "# Traverse the expirations (past today -> locate latest file)"
   ]
  },
  {
   "cell_type": "code",
   "execution_count": null,
   "metadata": {},
   "outputs": [],
   "source": []
  },
  {
   "cell_type": "code",
   "execution_count": 101,
   "metadata": {},
   "outputs": [],
   "source": [
    "exprations = os.listdir(path='../Data/' + ticker)\n",
    "\n",
    "# Filter dates past today:\n",
    "# Check year - this year >= 0\n",
    "# Check month - this month >= 0\n",
    "# Check day - this day >= 0\n",
    "\n",
    "valid_expirations = []\n",
    "today_y = datetime.datetime.today().strftime('%y')\n",
    "today_m = datetime.datetime.today().strftime('%m')\n",
    "today_d = datetime.datetime.today().strftime('%d')\n",
    "\n",
    "for each in exprations:\n",
    "\n",
    "    # Add expirations in the current month past today\n",
    "    if each not in valid_expirations and int(pd.to_datetime(each).strftime('%y')) == int(today_y) and int(pd.to_datetime(each).strftime('%m')) == int(today_m) and int(pd.to_datetime(each).strftime('%d')) >= int(today_d):\n",
    "        valid_expirations.append(each)\n",
    "    \n",
    "    # Add current year and months beyond current\n",
    "    if int(pd.to_datetime(each).strftime('%y')) == int(today_y) and int(pd.to_datetime(each).strftime('%m')) > int(today_m):\n",
    "        valid_expirations.append(each)\n",
    "        \n",
    "    # Add the following years\n",
    "    if each not in valid_expirations and int(pd.to_datetime(each).strftime('%y')) > int(today_y):\n",
    "        valid_expirations.append(each)\n",
    "    "
   ]
  },
  {
   "cell_type": "code",
   "execution_count": 103,
   "metadata": {},
   "outputs": [],
   "source": [
    "valid_expirations_sorted = pd.to_datetime(valid_expirations).sort_values()\n",
    "valid_expirations_sorted = valid_expirations_sorted.to_pydatetime()"
   ]
  },
  {
   "cell_type": "code",
   "execution_count": null,
   "metadata": {},
   "outputs": [],
   "source": []
  },
  {
   "cell_type": "code",
   "execution_count": 105,
   "metadata": {},
   "outputs": [
    {
     "data": {
      "text/plain": [
       "[<matplotlib.lines.Line2D at 0x12a015400>]"
      ]
     },
     "execution_count": 105,
     "metadata": {},
     "output_type": "execute_result"
    },
    {
     "data": {
      "image/png": "[encoded data removed]",
      "text/plain": [
       "<Figure size 432x288 with 1 Axes>"
      ]
     },
     "metadata": {
      "needs_background": "light"
     },
     "output_type": "display_data"
    }
   ],
   "source": [
    "plt.plot(valid_expirations_sorted, np.ones(len(valid_expirations_sorted)))"
   ]
  },
  {
   "cell_type": "code",
   "execution_count": 215,
   "metadata": {},
   "outputs": [
    {
     "name": "stdout",
     "output_type": "stream",
     "text": [
      "4\n",
      "4\n",
      "4\n",
      "4\n",
      "4\n",
      "4\n",
      "4\n",
      "4\n",
      "4\n",
      "4\n",
      "5\n",
      "5\n",
      "5\n",
      "5\n",
      "5\n",
      "5\n",
      "6\n",
      "6\n",
      "7\n",
      "8\n",
      "9\n",
      "9\n",
      "12\n",
      "12\n",
      "1\n",
      "3\n",
      "3\n",
      "6\n",
      "12\n",
      "1\n",
      "12\n"
     ]
    }
   ],
   "source": [
    "for each in valid_expirations_sorted:\n",
    "    print(each.month)"
   ]
  },
  {
   "cell_type": "code",
   "execution_count": 323,
   "metadata": {},
   "outputs": [],
   "source": [
    "# For each of the expiration dates selected in order:\n",
    "# Retrive and plot the corresponding ATM metric\n",
    "def plot_expiration_atm(o_type, doe_axis, metric):\n",
    "\n",
    "    data_axis = dict()\n",
    "\n",
    "    for each in doe_axis:\n",
    "\n",
    "        indir = '../Data/' + ticker + '/' + str(each.year) + '-' + str(each.month) + '-' + str(each.day) + '/'\n",
    "        list = os.listdir(path = indir)\n",
    "        list_paths = [indir + filename for filename in list]\n",
    "\n",
    "        newest = max(list_paths, key = os.path.getctime)\n",
    "\n",
    "        # Read in the CSV for the corresponding DOE:\n",
    "        data = pd.read_csv(newest, sep = ',')\n",
    "        data = data[data.Type == o_type][data.strike == 500][metric]\n",
    "\n",
    "        data_axis[str(each.year) + '-' + str(each.month) + '-' + str(each.day)] = data\n",
    "\n",
    "\n",
    "    list_axis = []\n",
    "    list_values = []\n",
    "    for each1 in [str(each.year) + '-' + str(each.month) + '-' + str(each.day) for each in valid_expirations_sorted]:\n",
    "        # print(data_axis[each1])\n",
    "\n",
    "        if(len(data_axis[each1].values) != 0):\n",
    "            list_axis.append(each1)\n",
    "            list_values.append(data_axis[each1].iloc[0])\n",
    "\n",
    "        # print(data_axis[each1].iloc[0])\n",
    "        # list_values.append(data_axis[each1][0])\n",
    "        # print(each1)\n",
    "\n",
    "    # print(list_values)   \n",
    "\n",
    "    plt.figure(figsize = (43, 10))\n",
    "    plt.plot(list_axis, list_values)\n",
    "\n",
    "    \n",
    "\n",
    "    "
   ]
  },
  {
   "cell_type": "code",
   "execution_count": 336,
   "metadata": {},
   "outputs": [
    {
     "name": "stderr",
     "output_type": "stream",
     "text": [
      "/var/folders/px/x01_dz0s2pg80y1jr97km6bh0000gn/T/ipykernel_54711/563817268.py:17: UserWarning: Boolean Series key will be reindexed to match DataFrame index.\n",
      "  data = data[data.Type == o_type][data.strike == 500][metric]\n"
     ]
    },
    {
     "data": {
      "image/png": "[encoded data removed]",
      "text/plain": [
       "<Figure size 3096x720 with 1 Axes>"
      ]
     },
     "metadata": {
      "needs_background": "light"
     },
     "output_type": "display_data"
    }
   ],
   "source": [
    "plot_expiration_atm('C', valid_expirations_sorted, 'gamma')"
   ]
  },
  {
   "cell_type": "code",
   "execution_count": null,
   "metadata": {},
   "outputs": [],
   "source": [
    "def plot_strike_expiration():\n",
    "    "
   ]
  },
  {
   "cell_type": "code",
   "execution_count": 6,
   "metadata": {},
   "outputs": [],
   "source": [
    "# Plots (Takes)"
   ]
  },
  {
   "cell_type": "code",
   "execution_count": 3,
   "metadata": {},
   "outputs": [],
   "source": [
    "# "
   ]
  },
  {
   "cell_type": "code",
   "execution_count": null,
   "metadata": {},
   "outputs": [],
   "source": []
  },
  {
   "cell_type": "code",
   "execution_count": null,
   "metadata": {},
   "outputs": [],
   "source": []
  },
  {
   "cell_type": "code",
   "execution_count": null,
   "metadata": {},
   "outputs": [],
   "source": []
  }
 ],
 "metadata": {
  "interpreter": {
   "hash": "aee8b7b246df8f9039afb4144a1f6fd8d2ca17a180786b69acc140d282b71a49"
  },
  "kernelspec": {
   "display_name": "Python 3.9.8 64-bit",
   "language": "python",
   "name": "python3"
  },
  "language_info": {
   "codemirror_mode": {
    "name": "ipython",
    "version": 3
   },
   "file_extension": ".py",
   "mimetype": "text/x-python",
   "name": "python",
   "nbconvert_exporter": "python",
   "pygments_lexer": "ipython3",
   "version": "3.9.8"
  },
  "orig_nbformat": 4
 },
 "nbformat": 4,
 "nbformat_minor": 2
}
