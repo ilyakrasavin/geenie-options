{
 "cells": [
  {
   "cell_type": "code",
   "execution_count": 1,
   "metadata": {},
   "outputs": [],
   "source": [
    "# Querying Yahoo Finance Data"
   ]
  },
  {
   "cell_type": "code",
   "execution_count": 2,
   "metadata": {},
   "outputs": [],
   "source": [
    "import requests\n",
    "import pandas as pd\n",
    "import numpy as np"
   ]
  },
  {
   "cell_type": "code",
   "execution_count": 100,
   "metadata": {},
   "outputs": [],
   "source": [
    "# First read with no date parameters to capture dates\n",
    "# Subsequently, read all contracts for the dates found"
   ]
  },
  {
   "cell_type": "code",
   "execution_count": 101,
   "metadata": {},
   "outputs": [],
   "source": [
    "## FIGURE OUT HOW TO STREAM AND RECORD THIS DATA DAILY"
   ]
  },
  {
   "cell_type": "code",
   "execution_count": 129,
   "metadata": {},
   "outputs": [],
   "source": [
    "# Captures TODAY only\n",
    "\n",
    "headers = {'User-Agent': 'Mozilla/5.0 (Macintosh; Intel Mac OS X 10_11_5) AppleWebKit/537.36 (KHTML, like Gecko) Chrome/50.0.2661.102 Safari/537.36'}\n",
    "\n",
    "req = requests.get('http://query1.finance.yahoo.com/v7/finance/options/SPY', headers = headers)"
   ]
  },
  {
   "cell_type": "code",
   "execution_count": 156,
   "metadata": {},
   "outputs": [],
   "source": [
    "# Collect Dates:\n",
    "dates = pd.read_json(req.content.decode())"
   ]
  },
  {
   "cell_type": "code",
   "execution_count": 157,
   "metadata": {},
   "outputs": [],
   "source": [
    "dates = dates.optionChain[1][0]['expirationDates']"
   ]
  },
  {
   "cell_type": "code",
   "execution_count": 174,
   "metadata": {},
   "outputs": [],
   "source": [
    "all_exp = {}\n",
    "for exp_date in dates:\n",
    "    all_exp[exp_date] = pd.read_json(requests.get('http://query1.finance.yahoo.com/v7/finance/options/SPY' + '?date=' + str(exp_date), headers = headers).content.decode())"
   ]
  },
  {
   "cell_type": "code",
   "execution_count": 191,
   "metadata": {},
   "outputs": [],
   "source": [
    "for each in all_exp:\n",
    "    all_exp[each] = pd.DataFrame.from_dict(all_exp[each].optionChain.result[0], orient='index')"
   ]
  },
  {
   "cell_type": "code",
   "execution_count": 248,
   "metadata": {},
   "outputs": [
    {
     "data": {
      "text/plain": [
       "[235.0,\n",
       " 240.0,\n",
       " 245.0,\n",
       " 250.0,\n",
       " 255.0,\n",
       " 260.0,\n",
       " 265.0,\n",
       " 270.0,\n",
       " 275.0,\n",
       " 280.0,\n",
       " 285.0,\n",
       " 290.0,\n",
       " 295.0,\n",
       " 300.0,\n",
       " 305.0,\n",
       " 310.0,\n",
       " 315.0,\n",
       " 320.0,\n",
       " 325.0,\n",
       " 330.0,\n",
       " 335.0,\n",
       " 340.0,\n",
       " 345.0,\n",
       " 350.0,\n",
       " 355.0,\n",
       " 360.0,\n",
       " 365.0,\n",
       " 370.0,\n",
       " 375.0,\n",
       " 380.0,\n",
       " 385.0,\n",
       " 390.0,\n",
       " 395.0,\n",
       " 400.0,\n",
       " 404.0,\n",
       " 405.0,\n",
       " 406.0,\n",
       " 407.0,\n",
       " 408.0,\n",
       " 410.0,\n",
       " 412.0,\n",
       " 413.0,\n",
       " 414.0,\n",
       " 415.0,\n",
       " 416.0,\n",
       " 418.0,\n",
       " 419.0,\n",
       " 420.0,\n",
       " 421.0,\n",
       " 422.0,\n",
       " 423.0,\n",
       " 424.0,\n",
       " 425.0,\n",
       " 426.0,\n",
       " 427.0,\n",
       " 428.0,\n",
       " 429.0,\n",
       " 430.0,\n",
       " 431.0,\n",
       " 432.0,\n",
       " 433.0,\n",
       " 434.0,\n",
       " 435.0,\n",
       " 436.0,\n",
       " 438.0,\n",
       " 440.0,\n",
       " 442.0,\n",
       " 444.0,\n",
       " 445.0,\n",
       " 446.0,\n",
       " 448.0,\n",
       " 450.0,\n",
       " 452.0,\n",
       " 454.0,\n",
       " 455.0,\n",
       " 456.0,\n",
       " 458.0,\n",
       " 460.0,\n",
       " 462.0,\n",
       " 464.0,\n",
       " 465.0,\n",
       " 466.0,\n",
       " 468.0,\n",
       " 470.0,\n",
       " 472.0,\n",
       " 474.0,\n",
       " 475.0,\n",
       " 476.0,\n",
       " 477.0,\n",
       " 478.0,\n",
       " 479.0,\n",
       " 480.0,\n",
       " 481.0,\n",
       " 482.0,\n",
       " 484.0,\n",
       " 485.0,\n",
       " 486.0,\n",
       " 488.0,\n",
       " 490.0,\n",
       " 492.0,\n",
       " 494.0,\n",
       " 495.0,\n",
       " 496.0,\n",
       " 497.0,\n",
       " 498.0,\n",
       " 499.0,\n",
       " 500.0,\n",
       " 501.0,\n",
       " 502.0,\n",
       " 503.0,\n",
       " 504.0,\n",
       " 505.0,\n",
       " 506.0,\n",
       " 508.0,\n",
       " 510.0,\n",
       " 512.0,\n",
       " 514.0,\n",
       " 520.0,\n",
       " 530.0,\n",
       " 540.0,\n",
       " 550.0,\n",
       " 560.0]"
      ]
     },
     "execution_count": 248,
     "metadata": {},
     "output_type": "execute_result"
    }
   ],
   "source": [
    "# All Expiration Dates\n",
    "all_exp[1640563200][0]['expirationDates']\n",
    "\n",
    "# Current Expiration Date\n",
    "all_exp[1640563200].loc['options'][0][0]['expirationDate']\n",
    "\n",
    "# All Puts and Calls in order (Calls & Puts: Low to High Price)\n",
    "all_exp[1640563200].loc['options'][0][0]['calls']\n",
    "all_exp[1640563200].loc['options'][0][0]['puts']\n",
    "\n",
    "# Number of different price contracts\n",
    "len(all_exp[1640563200].loc['options'][0][0]['puts'])\n",
    "\n",
    "\n",
    "# Strikes for a Current Expiration Date\n",
    "all_exp[1640563200].loc['strikes'][0]\n",
    "\n"
   ]
  },
  {
   "cell_type": "code",
   "execution_count": 249,
   "metadata": {},
   "outputs": [
    {
     "data": {
      "text/plain": [
       "105"
      ]
     },
     "execution_count": 249,
     "metadata": {},
     "output_type": "execute_result"
    }
   ],
   "source": [
    "len(all_exp[1640563200].loc['options'][0][0]['puts'])"
   ]
  },
  {
   "cell_type": "code",
   "execution_count": 1,
   "metadata": {},
   "outputs": [
    {
     "ename": "NameError",
     "evalue": "name 'all_exp' is not defined",
     "output_type": "error",
     "traceback": [
      "\u001b[0;31m---------------------------------------------------------------------------\u001b[0m",
      "\u001b[0;31mNameError\u001b[0m                                 Traceback (most recent call last)",
      "\u001b[0;32m/var/folders/px/x01_dz0s2pg80y1jr97km6bh0000gn/T/ipykernel_19173/3519152416.py\u001b[0m in \u001b[0;36m<module>\u001b[0;34m\u001b[0m\n\u001b[0;32m----> 1\u001b[0;31m \u001b[0mall_exp\u001b[0m\u001b[0;34m[\u001b[0m\u001b[0;36m1640563200\u001b[0m\u001b[0;34m]\u001b[0m\u001b[0;34m\u001b[0m\u001b[0;34m\u001b[0m\u001b[0m\n\u001b[0m",
      "\u001b[0;31mNameError\u001b[0m: name 'all_exp' is not defined"
     ]
    }
   ],
   "source": [
    "all_exp[1640563200]"
   ]
  },
  {
   "cell_type": "code",
   "execution_count": 254,
   "metadata": {},
   "outputs": [
    {
     "data": {
      "text/plain": [
       "{'contractSymbol': 'SPY211227P00540000',\n",
       " 'strike': 540.0,\n",
       " 'currency': 'USD',\n",
       " 'lastPrice': 75.07,\n",
       " 'change': 0.0,\n",
       " 'percentChange': 0.0,\n",
       " 'openInterest': 0,\n",
       " 'bid': 76.77,\n",
       " 'ask': 77.32,\n",
       " 'contractSize': 'REGULAR',\n",
       " 'expiration': 1640563200,\n",
       " 'lastTradeDate': 1637689660,\n",
       " 'impliedVolatility': 0.5117236328125,\n",
       " 'inTheMoney': True}"
      ]
     },
     "execution_count": 254,
     "metadata": {},
     "output_type": "execute_result"
    }
   ],
   "source": [
    "all_exp[1640563200].loc['options'][0][0]['puts'][104]\n"
   ]
  },
  {
   "cell_type": "code",
   "execution_count": 234,
   "metadata": {},
   "outputs": [
    {
     "data": {
      "text/plain": [
       "dict_keys(['language', 'region', 'quoteType', 'quoteSourceName', 'triggerable', 'currency', 'exchange', 'longName', 'messageBoardId', 'exchangeTimezoneName', 'exchangeTimezoneShortName', 'gmtOffSetMilliseconds', 'market', 'esgPopulated', 'firstTradeDateMilliseconds', 'priceHint', 'postMarketChangePercent', 'postMarketTime', 'postMarketPrice', 'postMarketChange', 'regularMarketChange', 'regularMarketChangePercent', 'regularMarketTime', 'regularMarketPrice', 'regularMarketDayHigh', 'regularMarketDayRange', 'regularMarketDayLow', 'regularMarketVolume', 'regularMarketPreviousClose', 'bid', 'ask', 'bidSize', 'askSize', 'fullExchangeName', 'financialCurrency', 'regularMarketOpen', 'averageDailyVolume3Month', 'averageDailyVolume10Day', 'fiftyTwoWeekLowChange', 'fiftyTwoWeekLowChangePercent', 'fiftyTwoWeekRange', 'fiftyTwoWeekHighChange', 'fiftyTwoWeekHighChangePercent', 'fiftyTwoWeekLow', 'fiftyTwoWeekHigh', 'trailingAnnualDividendRate', 'trailingPE', 'trailingAnnualDividendYield', 'ytdReturn', 'trailingThreeMonthReturns', 'trailingThreeMonthNavReturns', 'twoHundredDayAverageChange', 'twoHundredDayAverageChangePercent', 'priceToBook', 'sourceInterval', 'exchangeDataDelayedBy', 'tradeable', 'epsTrailingTwelveMonths', 'sharesOutstanding', 'bookValue', 'fiftyDayAverage', 'fiftyDayAverageChange', 'fiftyDayAverageChangePercent', 'twoHundredDayAverage', 'marketCap', 'marketState', 'shortName', 'symbol'])"
      ]
     },
     "execution_count": 234,
     "metadata": {},
     "output_type": "execute_result"
    }
   ],
   "source": [
    "# Quite Information Accessible for each element\n",
    "all_exp[1640563200][0][4].keys()"
   ]
  },
  {
   "cell_type": "code",
   "execution_count": null,
   "metadata": {},
   "outputs": [],
   "source": []
  },
  {
   "cell_type": "code",
   "execution_count": 135,
   "metadata": {},
   "outputs": [],
   "source": [
    "df = pd.read_json(dates)"
   ]
  },
  {
   "cell_type": "code",
   "execution_count": 189,
   "metadata": {},
   "outputs": [],
   "source": [
    "newdf = pd.DataFrame.from_dict(df.optionChain.result[0], orient='index')"
   ]
  },
  {
   "cell_type": "code",
   "execution_count": 190,
   "metadata": {},
   "outputs": [
    {
     "data": {
      "text/html": [
       "<div>\n",
       "<style scoped>\n",
       "    .dataframe tbody tr th:only-of-type {\n",
       "        vertical-align: middle;\n",
       "    }\n",
       "\n",
       "    .dataframe tbody tr th {\n",
       "        vertical-align: top;\n",
       "    }\n",
       "\n",
       "    .dataframe thead th {\n",
       "        text-align: right;\n",
       "    }\n",
       "</style>\n",
       "<table border=\"1\" class=\"dataframe\">\n",
       "  <thead>\n",
       "    <tr style=\"text-align: right;\">\n",
       "      <th></th>\n",
       "      <th>0</th>\n",
       "    </tr>\n",
       "  </thead>\n",
       "  <tbody>\n",
       "    <tr>\n",
       "      <th>underlyingSymbol</th>\n",
       "      <td>SPY</td>\n",
       "    </tr>\n",
       "    <tr>\n",
       "      <th>expirationDates</th>\n",
       "      <td>[1640131200, 1640217600, 1640563200, 164073600...</td>\n",
       "    </tr>\n",
       "    <tr>\n",
       "      <th>strikes</th>\n",
       "      <td>[235.0, 240.0, 245.0, 250.0, 255.0, 260.0, 265...</td>\n",
       "    </tr>\n",
       "    <tr>\n",
       "      <th>hasMiniOptions</th>\n",
       "      <td>False</td>\n",
       "    </tr>\n",
       "    <tr>\n",
       "      <th>quote</th>\n",
       "      <td>{'language': 'en-US', 'region': 'US', 'quoteTy...</td>\n",
       "    </tr>\n",
       "    <tr>\n",
       "      <th>options</th>\n",
       "      <td>[{'expirationDate': 1640131200, 'hasMiniOption...</td>\n",
       "    </tr>\n",
       "  </tbody>\n",
       "</table>\n",
       "</div>"
      ],
      "text/plain": [
       "                                                                  0\n",
       "underlyingSymbol                                                SPY\n",
       "expirationDates   [1640131200, 1640217600, 1640563200, 164073600...\n",
       "strikes           [235.0, 240.0, 245.0, 250.0, 255.0, 260.0, 265...\n",
       "hasMiniOptions                                                False\n",
       "quote             {'language': 'en-US', 'region': 'US', 'quoteTy...\n",
       "options           [{'expirationDate': 1640131200, 'hasMiniOption..."
      ]
     },
     "execution_count": 190,
     "metadata": {},
     "output_type": "execute_result"
    }
   ],
   "source": [
    "newdf"
   ]
  },
  {
   "cell_type": "code",
   "execution_count": 105,
   "metadata": {},
   "outputs": [
    {
     "data": {
      "text/plain": [
       "'Tue, 21 Dec 2021 19:56:55 GMT'"
      ]
     },
     "execution_count": 105,
     "metadata": {},
     "output_type": "execute_result"
    }
   ],
   "source": [
    "# Parse and Track records\n",
    "req.headers['date']"
   ]
  },
  {
   "cell_type": "code",
   "execution_count": 128,
   "metadata": {},
   "outputs": [
    {
     "data": {
      "text/plain": [
       "{'contractSymbol': 'SPY211231C00438000',\n",
       " 'strike': 438.0,\n",
       " 'currency': 'USD',\n",
       " 'lastPrice': 21.63,\n",
       " 'change': -2.4100018,\n",
       " 'percentChange': -10.024965,\n",
       " 'volume': 2,\n",
       " 'openInterest': 15,\n",
       " 'bid': 24.74,\n",
       " 'ask': 24.85,\n",
       " 'contractSize': 'REGULAR',\n",
       " 'expiration': 1640908800,\n",
       " 'lastTradeDate': 1640102871,\n",
       " 'impliedVolatility': 0.16724465576171801,\n",
       " 'inTheMoney': True}"
      ]
     },
     "execution_count": 128,
     "metadata": {},
     "output_type": "execute_result"
    }
   ],
   "source": [
    "len(newdf.loc['options'][0][0]['puts'])\n",
    "\n",
    "# Selects a specific contract\n",
    "newdf.loc['options'][0][0]['calls'][134]\n"
   ]
  },
  {
   "cell_type": "code",
   "execution_count": 126,
   "metadata": {},
   "outputs": [
    {
     "data": {
      "text/plain": [
       "[200.0,\n",
       " 205.0,\n",
       " 210.0,\n",
       " 215.0,\n",
       " 220.0,\n",
       " 225.0,\n",
       " 230.0,\n",
       " 235.0,\n",
       " 240.0,\n",
       " 245.0,\n",
       " 250.0,\n",
       " 255.0,\n",
       " 260.0,\n",
       " 265.0,\n",
       " 270.0,\n",
       " 275.0,\n",
       " 280.0,\n",
       " 285.0,\n",
       " 290.0,\n",
       " 295.0,\n",
       " 300.0,\n",
       " 305.0,\n",
       " 310.0,\n",
       " 315.0,\n",
       " 320.0,\n",
       " 325.0,\n",
       " 329.0,\n",
       " 330.0,\n",
       " 331.0,\n",
       " 332.0,\n",
       " 333.0,\n",
       " 334.0,\n",
       " 335.0,\n",
       " 336.0,\n",
       " 337.0,\n",
       " 338.0,\n",
       " 339.0,\n",
       " 340.0,\n",
       " 341.0,\n",
       " 342.0,\n",
       " 343.0,\n",
       " 344.0,\n",
       " 345.0,\n",
       " 346.0,\n",
       " 347.0,\n",
       " 348.0,\n",
       " 349.0,\n",
       " 350.0,\n",
       " 351.0,\n",
       " 352.0,\n",
       " 353.0,\n",
       " 354.0,\n",
       " 355.0,\n",
       " 356.0,\n",
       " 357.0,\n",
       " 358.0,\n",
       " 359.0,\n",
       " 360.0,\n",
       " 361.0,\n",
       " 362.0,\n",
       " 363.0,\n",
       " 364.0,\n",
       " 365.0,\n",
       " 366.0,\n",
       " 367.0,\n",
       " 368.0,\n",
       " 369.0,\n",
       " 370.0,\n",
       " 371.0,\n",
       " 372.0,\n",
       " 373.0,\n",
       " 374.0,\n",
       " 375.0,\n",
       " 376.0,\n",
       " 377.0,\n",
       " 378.0,\n",
       " 379.0,\n",
       " 380.0,\n",
       " 381.0,\n",
       " 382.0,\n",
       " 383.0,\n",
       " 384.0,\n",
       " 385.0,\n",
       " 386.0,\n",
       " 387.0,\n",
       " 388.0,\n",
       " 389.0,\n",
       " 390.0,\n",
       " 391.0,\n",
       " 392.0,\n",
       " 393.0,\n",
       " 394.0,\n",
       " 395.0,\n",
       " 396.0,\n",
       " 397.0,\n",
       " 398.0,\n",
       " 399.0,\n",
       " 400.0,\n",
       " 401.0,\n",
       " 402.0,\n",
       " 403.0,\n",
       " 404.0,\n",
       " 405.0,\n",
       " 406.0,\n",
       " 407.0,\n",
       " 408.0,\n",
       " 409.0,\n",
       " 410.0,\n",
       " 411.0,\n",
       " 412.0,\n",
       " 413.0,\n",
       " 414.0,\n",
       " 415.0,\n",
       " 416.0,\n",
       " 417.0,\n",
       " 418.0,\n",
       " 419.0,\n",
       " 420.0,\n",
       " 421.0,\n",
       " 422.0,\n",
       " 423.0,\n",
       " 424.0,\n",
       " 425.0,\n",
       " 426.0,\n",
       " 427.0,\n",
       " 428.0,\n",
       " 429.0,\n",
       " 430.0,\n",
       " 431.0,\n",
       " 432.0,\n",
       " 433.0,\n",
       " 434.0,\n",
       " 435.0,\n",
       " 436.0,\n",
       " 437.0,\n",
       " 438.0,\n",
       " 439.0,\n",
       " 440.0,\n",
       " 441.0,\n",
       " 442.0,\n",
       " 443.0,\n",
       " 444.0,\n",
       " 445.0,\n",
       " 446.0,\n",
       " 447.0,\n",
       " 448.0,\n",
       " 449.0,\n",
       " 450.0,\n",
       " 451.0,\n",
       " 452.0,\n",
       " 453.0,\n",
       " 454.0,\n",
       " 455.0,\n",
       " 456.0,\n",
       " 457.0,\n",
       " 458.0,\n",
       " 459.0,\n",
       " 460.0,\n",
       " 461.0,\n",
       " 462.0,\n",
       " 463.0,\n",
       " 464.0,\n",
       " 465.0,\n",
       " 466.0,\n",
       " 467.0,\n",
       " 468.0,\n",
       " 469.0,\n",
       " 470.0,\n",
       " 471.0,\n",
       " 472.0,\n",
       " 473.0,\n",
       " 474.0,\n",
       " 475.0,\n",
       " 476.0,\n",
       " 477.0,\n",
       " 478.0,\n",
       " 479.0,\n",
       " 480.0,\n",
       " 481.0,\n",
       " 482.0,\n",
       " 483.0,\n",
       " 484.0,\n",
       " 485.0,\n",
       " 486.0,\n",
       " 487.0,\n",
       " 488.0,\n",
       " 489.0,\n",
       " 490.0,\n",
       " 491.0,\n",
       " 492.0,\n",
       " 493.0,\n",
       " 494.0,\n",
       " 495.0,\n",
       " 496.0,\n",
       " 497.0,\n",
       " 498.0,\n",
       " 499.0,\n",
       " 500.0,\n",
       " 501.0,\n",
       " 502.0,\n",
       " 503.0,\n",
       " 504.0,\n",
       " 505.0,\n",
       " 506.0,\n",
       " 507.0,\n",
       " 508.0,\n",
       " 509.0,\n",
       " 510.0,\n",
       " 511.0,\n",
       " 512.0,\n",
       " 513.0,\n",
       " 514.0,\n",
       " 515.0,\n",
       " 516.0,\n",
       " 517.0,\n",
       " 518.0,\n",
       " 519.0,\n",
       " 520.0,\n",
       " 525.0,\n",
       " 530.0,\n",
       " 535.0,\n",
       " 540.0,\n",
       " 545.0,\n",
       " 550.0,\n",
       " 555.0,\n",
       " 560.0,\n",
       " 570.0,\n",
       " 580.0]"
      ]
     },
     "execution_count": 126,
     "metadata": {},
     "output_type": "execute_result"
    }
   ],
   "source": [
    "newdf.loc['expirationDates'][0]\n",
    "newdf.loc['strikes'][0]"
   ]
  },
  {
   "cell_type": "markdown",
   "metadata": {},
   "source": []
  },
  {
   "cell_type": "code",
   "execution_count": null,
   "metadata": {},
   "outputs": [],
   "source": []
  }
 ],
 "metadata": {
  "interpreter": {
   "hash": "767d51c1340bd893661ea55ea3124f6de3c7a262a8b4abca0554b478b1e2ff90"
  },
  "kernelspec": {
   "display_name": "Python 2.7.16 64-bit",
   "language": "python",
   "name": "python3"
  },
  "language_info": {
   "codemirror_mode": {
    "name": "ipython",
    "version": 3
   },
   "file_extension": ".py",
   "mimetype": "text/x-python",
   "name": "python",
   "nbconvert_exporter": "python",
   "pygments_lexer": "ipython3",
   "version": "3.9.8"
  },
  "orig_nbformat": 4
 },
 "nbformat": 4,
 "nbformat_minor": 2
}
