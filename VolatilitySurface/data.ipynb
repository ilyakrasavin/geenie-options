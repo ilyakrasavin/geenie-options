{
 "cells": [
  {
   "cell_type": "code",
   "execution_count": 6,
   "metadata": {},
   "outputs": [],
   "source": [
    "# Querying Yahoo Finance Data"
   ]
  },
  {
   "cell_type": "code",
   "execution_count": 7,
   "metadata": {},
   "outputs": [],
   "source": [
    "import requests\n",
    "import pandas as pd\n",
    "import numpy as np"
   ]
  },
  {
   "cell_type": "markdown",
   "metadata": {},
   "source": [
    "# Data Retrieval"
   ]
  },
  {
   "cell_type": "code",
   "execution_count": 46,
   "metadata": {},
   "outputs": [],
   "source": [
    "# Captures the Equity page to retrieve Expiration Dates\n",
    "\n",
    "headers = {'User-Agent': 'Mozilla/5.0 (Macintosh; Intel Mac OS X 10_11_5) AppleWebKit/537.36 (KHTML, like Gecko) Chrome/50.0.2661.102 Safari/537.36'}\n",
    "\n",
    "req = requests.get('http://query1.finance.yahoo.com/v7/finance/options/SPY', headers = headers)"
   ]
  },
  {
   "cell_type": "code",
   "execution_count": 258,
   "metadata": {},
   "outputs": [
    {
     "data": {
      "text/plain": [
       "'Tue, 25 Jan 2022 21:49:58 GMT'"
      ]
     },
     "execution_count": 258,
     "metadata": {},
     "output_type": "execute_result"
    }
   ],
   "source": [
    "# Request Time\n",
    "req.headers['date']"
   ]
  },
  {
   "cell_type": "code",
   "execution_count": 153,
   "metadata": {},
   "outputs": [],
   "source": [
    "# Decode the response\n",
    "dates = pd.read_json(req.content.decode())\n",
    "\n",
    "# Translate Unix Timestamps into Python TimeDate \n",
    "dates_unix = dates.optionChain[1][0]['expirationDates']\n",
    "dates_timedate = pd.to_datetime(dates_unix, origin='unix', unit = 's')\n",
    "\n",
    "# Convert to Human-readable form\n",
    "dates_human = []\n",
    "for i, each in enumerate(dates_timedate):\n",
    "    dates_human.append(str(each.year) + '-' + str(each.month) + '-' + str(each.day))\n"
   ]
  },
  {
   "cell_type": "code",
   "execution_count": 154,
   "metadata": {},
   "outputs": [],
   "source": [
    "# Request Option chains for each corresponding Expiration Date (Human-Readable)\n",
    "\n",
    "all_exp = {}\n",
    "for i, exp_date in enumerate(dates_unix):\n",
    "    all_exp[dates_human[i]] = pd.read_json(requests.get('http://query1.finance.yahoo.com/v7/finance/options/SPY' + '?date=' + str(exp_date), headers = headers).content.decode())"
   ]
  },
  {
   "cell_type": "code",
   "execution_count": 155,
   "metadata": {},
   "outputs": [
    {
     "data": {
      "text/plain": [
       "dict_keys(['2022-1-26', '2022-1-28', '2022-1-31', '2022-2-2', '2022-2-4', '2022-2-7', '2022-2-9', '2022-2-11', '2022-2-14', '2022-2-16', '2022-2-18', '2022-2-22', '2022-2-23', '2022-2-25', '2022-2-28', '2022-3-4', '2022-3-18', '2022-3-31', '2022-4-14', '2022-5-20', '2022-6-17', '2022-6-30', '2022-9-16', '2022-9-30', '2022-12-16', '2022-12-30', '2023-1-20', '2023-3-17', '2023-6-16', '2023-12-15', '2024-1-19', '2024-12-20'])"
      ]
     },
     "execution_count": 155,
     "metadata": {},
     "output_type": "execute_result"
    }
   ],
   "source": [
    "# Assure the dictionary contains all Expiration Dates of interest\n",
    "all_exp.keys()"
   ]
  },
  {
   "cell_type": "code",
   "execution_count": 156,
   "metadata": {},
   "outputs": [],
   "source": [
    "# Convert the format from Dictionaties to Pandas Dataframe\n",
    "# Each Chain can now be accessed by quering 'YY-MM-DD' Expiration date in the Dictionary\n",
    "\n",
    "for each in all_exp:\n",
    "    all_exp[each] = pd.DataFrame.from_dict(all_exp[each].optionChain.result[0], orient='index')"
   ]
  },
  {
   "cell_type": "code",
   "execution_count": 162,
   "metadata": {},
   "outputs": [
    {
     "data": {
      "text/html": [
       "<div>\n",
       "<style scoped>\n",
       "    .dataframe tbody tr th:only-of-type {\n",
       "        vertical-align: middle;\n",
       "    }\n",
       "\n",
       "    .dataframe tbody tr th {\n",
       "        vertical-align: top;\n",
       "    }\n",
       "\n",
       "    .dataframe thead th {\n",
       "        text-align: right;\n",
       "    }\n",
       "</style>\n",
       "<table border=\"1\" class=\"dataframe\">\n",
       "  <thead>\n",
       "    <tr style=\"text-align: right;\">\n",
       "      <th></th>\n",
       "      <th>0</th>\n",
       "    </tr>\n",
       "  </thead>\n",
       "  <tbody>\n",
       "    <tr>\n",
       "      <th>underlyingSymbol</th>\n",
       "      <td>SPY</td>\n",
       "    </tr>\n",
       "    <tr>\n",
       "      <th>expirationDates</th>\n",
       "      <td>[1643155200, 1643328000, 1643587200, 164376000...</td>\n",
       "    </tr>\n",
       "    <tr>\n",
       "      <th>strikes</th>\n",
       "      <td>[150.0, 160.0, 170.0, 180.0, 190.0, 195.0, 200...</td>\n",
       "    </tr>\n",
       "    <tr>\n",
       "      <th>hasMiniOptions</th>\n",
       "      <td>False</td>\n",
       "    </tr>\n",
       "    <tr>\n",
       "      <th>quote</th>\n",
       "      <td>{'language': 'en-US', 'region': 'US', 'quoteTy...</td>\n",
       "    </tr>\n",
       "    <tr>\n",
       "      <th>options</th>\n",
       "      <td>[{'expirationDate': 1679011200, 'hasMiniOption...</td>\n",
       "    </tr>\n",
       "  </tbody>\n",
       "</table>\n",
       "</div>"
      ],
      "text/plain": [
       "                                                                  0\n",
       "underlyingSymbol                                                SPY\n",
       "expirationDates   [1643155200, 1643328000, 1643587200, 164376000...\n",
       "strikes           [150.0, 160.0, 170.0, 180.0, 190.0, 195.0, 200...\n",
       "hasMiniOptions                                                False\n",
       "quote             {'language': 'en-US', 'region': 'US', 'quoteTy...\n",
       "options           [{'expirationDate': 1679011200, 'hasMiniOption..."
      ]
     },
     "execution_count": 162,
     "metadata": {},
     "output_type": "execute_result"
    }
   ],
   "source": [
    "all_exp['2023-3-17']"
   ]
  },
  {
   "cell_type": "markdown",
   "metadata": {},
   "source": [
    "# Datapoints of Interest"
   ]
  },
  {
   "cell_type": "markdown",
   "metadata": {},
   "source": [
    "## Equity"
   ]
  },
  {
   "cell_type": "code",
   "execution_count": 202,
   "metadata": {},
   "outputs": [
    {
     "data": {
      "text/plain": [
       "dict_keys(['language', 'region', 'quoteType', 'quoteSourceName', 'triggerable', 'currency', 'trailingAnnualDividendRate', 'trailingPE', 'trailingAnnualDividendYield', 'ytdReturn', 'trailingThreeMonthReturns', 'trailingThreeMonthNavReturns', 'epsTrailingTwelveMonths', 'sharesOutstanding', 'bookValue', 'fiftyDayAverage', 'fiftyDayAverageChange', 'fiftyDayAverageChangePercent', 'twoHundredDayAverage', 'twoHundredDayAverageChange', 'twoHundredDayAverageChangePercent', 'marketCap', 'priceToBook', 'sourceInterval', 'exchangeDataDelayedBy', 'tradeable', 'exchangeTimezoneName', 'exchangeTimezoneShortName', 'gmtOffSetMilliseconds', 'esgPopulated', 'firstTradeDateMilliseconds', 'priceHint', 'postMarketChangePercent', 'postMarketTime', 'postMarketPrice', 'postMarketChange', 'regularMarketChange', 'regularMarketChangePercent', 'regularMarketTime', 'regularMarketPrice', 'regularMarketDayHigh', 'regularMarketDayRange', 'regularMarketDayLow', 'regularMarketVolume', 'regularMarketPreviousClose', 'bid', 'ask', 'bidSize', 'askSize', 'fullExchangeName', 'financialCurrency', 'regularMarketOpen', 'averageDailyVolume3Month', 'averageDailyVolume10Day', 'fiftyTwoWeekLowChange', 'fiftyTwoWeekLowChangePercent', 'fiftyTwoWeekRange', 'fiftyTwoWeekHighChange', 'fiftyTwoWeekHighChangePercent', 'fiftyTwoWeekLow', 'fiftyTwoWeekHigh', 'marketState', 'exchange', 'shortName', 'longName', 'messageBoardId', 'market', 'symbol'])"
      ]
     },
     "execution_count": 202,
     "metadata": {},
     "output_type": "execute_result"
    }
   ],
   "source": [
    "# Information Accessible for a Single Equity\n",
    "all_exp['2023-3-17'][0][4].keys()"
   ]
  },
  {
   "cell_type": "code",
   "execution_count": 236,
   "metadata": {},
   "outputs": [
    {
     "data": {
      "text/plain": [
       "[1643155200,\n",
       " 1643328000,\n",
       " 1643587200,\n",
       " 1643760000,\n",
       " 1643932800,\n",
       " 1644192000,\n",
       " 1644364800,\n",
       " 1644537600,\n",
       " 1644796800,\n",
       " 1644969600,\n",
       " 1645142400,\n",
       " 1645488000,\n",
       " 1645574400,\n",
       " 1645747200,\n",
       " 1646006400,\n",
       " 1646352000,\n",
       " 1647561600,\n",
       " 1648684800,\n",
       " 1649894400,\n",
       " 1653004800,\n",
       " 1655424000,\n",
       " 1656547200,\n",
       " 1663286400,\n",
       " 1664496000,\n",
       " 1671148800,\n",
       " 1672358400,\n",
       " 1674172800,\n",
       " 1679011200,\n",
       " 1686873600,\n",
       " 1702598400,\n",
       " 1705622400,\n",
       " 1734652800]"
      ]
     },
     "execution_count": 236,
     "metadata": {},
     "output_type": "execute_result"
    }
   ],
   "source": [
    "# All Expiration Dates available in UNIX Timestamp format\n",
    "all_exp['2023-3-17'][0]['expirationDates']"
   ]
  },
  {
   "cell_type": "markdown",
   "metadata": {},
   "source": [
    "## Option Chain"
   ]
  },
  {
   "cell_type": "code",
   "execution_count": 239,
   "metadata": {},
   "outputs": [
    {
     "data": {
      "text/plain": [
       "dict_keys(['contractSymbol', 'strike', 'currency', 'lastPrice', 'change', 'percentChange', 'volume', 'openInterest', 'bid', 'ask', 'contractSize', 'expiration', 'lastTradeDate', 'impliedVolatility', 'inTheMoney'])"
      ]
     },
     "execution_count": 239,
     "metadata": {},
     "output_type": "execute_result"
    }
   ],
   "source": [
    "# Datapoints available for Each Contract\n",
    "all_exp['2023-3-17'].loc['options'][0][0]['calls'][0].keys()"
   ]
  },
  {
   "cell_type": "code",
   "execution_count": 243,
   "metadata": {},
   "outputs": [
    {
     "data": {
      "text/plain": [
       "86"
      ]
     },
     "execution_count": 243,
     "metadata": {},
     "output_type": "execute_result"
    }
   ],
   "source": [
    "# Current Expiration Date\n",
    "all_exp['2023-3-17'].loc['options'][0][0]['expirationDate']\n",
    "\n",
    "# All Puts and Calls in order (Calls & Puts: Low to High Strike)\n",
    "all_exp['2023-3-17'].loc['options'][0][0]['calls']\n",
    "all_exp['2023-3-17'].loc['options'][0][0]['puts']\n",
    "\n",
    "# Strike Prices for a Current Expiration Date\n",
    "all_exp['2023-3-17'].loc['strikes'][0]\n",
    "\n",
    "# Number of different contracts by Expirations\n",
    "len(all_exp['2023-3-17'].loc['options'][0][0]['puts'])"
   ]
  },
  {
   "cell_type": "code",
   "execution_count": 254,
   "metadata": {},
   "outputs": [
    {
     "data": {
      "text/plain": [
       "0.40735455932617104"
      ]
     },
     "execution_count": 254,
     "metadata": {},
     "output_type": "execute_result"
    }
   ],
   "source": [
    "# Access to a specific Contract #15\n",
    "all_exp['2023-3-17'].loc['options'][0][0]['puts'][15]\n",
    "\n",
    "# Access to a specific Datapoint\n",
    "all_exp['2023-3-17'].loc['options'][0][0]['puts'][15]['impliedVolatility']"
   ]
  },
  {
   "cell_type": "code",
   "execution_count": null,
   "metadata": {},
   "outputs": [],
   "source": []
  },
  {
   "cell_type": "markdown",
   "metadata": {},
   "source": [
    "# Dataset"
   ]
  },
  {
   "cell_type": "markdown",
   "metadata": {},
   "source": [
    "## Construction"
   ]
  },
  {
   "cell_type": "code",
   "execution_count": null,
   "metadata": {},
   "outputs": [],
   "source": []
  },
  {
   "cell_type": "code",
   "execution_count": null,
   "metadata": {},
   "outputs": [],
   "source": []
  },
  {
   "cell_type": "markdown",
   "metadata": {},
   "source": [
    "## Saving & File Structure"
   ]
  },
  {
   "cell_type": "code",
   "execution_count": null,
   "metadata": {},
   "outputs": [],
   "source": []
  }
 ],
 "metadata": {
  "interpreter": {
   "hash": "767d51c1340bd893661ea55ea3124f6de3c7a262a8b4abca0554b478b1e2ff90"
  },
  "kernelspec": {
   "display_name": "Python 2.7.16 64-bit",
   "language": "python",
   "name": "python3"
  },
  "language_info": {
   "codemirror_mode": {
    "name": "ipython",
    "version": 3
   },
   "file_extension": ".py",
   "mimetype": "text/x-python",
   "name": "python",
   "nbconvert_exporter": "python",
   "pygments_lexer": "ipython3",
   "version": "3.9.8"
  },
  "orig_nbformat": 4
 },
 "nbformat": 4,
 "nbformat_minor": 2
}
